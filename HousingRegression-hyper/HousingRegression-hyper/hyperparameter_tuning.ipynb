{
 "cells": [
  {
   "cell_type": "code",
   "execution_count": 1,
   "id": "41f3b0f4-760f-46db-81cd-bff6b43bc245",
   "metadata": {},
   "outputs": [],
   "source": [
    "from utils import load_data\n",
    "from sklearn.model_selection import train_test_split, GridSearchCV\n",
    "from sklearn.linear_model import LinearRegression\n",
    "from sklearn.tree import DecisionTreeRegressor\n",
    "from sklearn.ensemble import RandomForestRegressor\n",
    "from sklearn.metrics import mean_squared_error, r2_score\n"
   ]
  },
  {
   "cell_type": "code",
   "execution_count": 2,
   "id": "9cd81508-1b4a-424d-969c-c237206cbb4d",
   "metadata": {},
   "outputs": [],
   "source": [
    "df = load_data()\n",
    "X = df.drop(\"MEDV\", axis=1)\n",
    "y = df[\"MEDV\"]\n",
    "\n",
    "X_train, X_test, y_train, y_test = train_test_split(X, y, test_size=0.2, random_state=42)\n"
   ]
  },
  {
   "cell_type": "code",
   "execution_count": 3,
   "id": "eb19b644-fbe9-46a2-9a4a-c1cb36939a60",
   "metadata": {},
   "outputs": [],
   "source": [
    "from sklearn.linear_model import Ridge\n",
    "\n",
    "param_grid_lr = {\n",
    "    'alpha': [0.01, 0.1, 1.0, 10],\n",
    "    'solver': ['auto', 'svd', 'cholesky'],\n",
    "    'fit_intercept': [True, False]\n",
    "}\n",
    "\n",
    "grid_lr = GridSearchCV(Ridge(), param_grid_lr, cv=3, scoring='r2')\n",
    "grid_lr.fit(X_train, y_train)\n",
    "y_pred_lr = grid_lr.predict(X_test)\n"
   ]
  },
  {
   "cell_type": "code",
   "execution_count": 4,
   "id": "841c7088-19ce-42d9-aefb-a269a45f189e",
   "metadata": {},
   "outputs": [],
   "source": [
    "param_grid_dt = {\n",
    "    'max_depth': [3, 5, 10],\n",
    "    'min_samples_split': [2, 5, 10],\n",
    "    'min_samples_leaf': [1, 2, 4]\n",
    "}\n",
    "\n",
    "grid_dt = GridSearchCV(DecisionTreeRegressor(random_state=42), param_grid_dt, cv=3, scoring='r2')\n",
    "grid_dt.fit(X_train, y_train)\n",
    "y_pred_dt = grid_dt.predict(X_test)\n"
   ]
  },
  {
   "cell_type": "code",
   "execution_count": 5,
   "id": "37168ce3-f4af-46a5-9f11-7f0cd15f7c68",
   "metadata": {},
   "outputs": [],
   "source": [
    "param_grid_rf = {\n",
    "    'n_estimators': [50, 100],\n",
    "    'max_depth': [5, 10, None],\n",
    "    'min_samples_split': [2, 5]\n",
    "}\n",
    "\n",
    "grid_rf = GridSearchCV(RandomForestRegressor(random_state=42), param_grid_rf, cv=3, scoring='r2')\n",
    "grid_rf.fit(X_train, y_train)\n",
    "y_pred_rf = grid_rf.predict(X_test)\n"
   ]
  },
  {
   "cell_type": "code",
   "execution_count": 6,
   "id": "fb20c1a5-dd82-411e-8da8-6b3c7cd439c5",
   "metadata": {},
   "outputs": [
    {
     "data": {
      "text/html": [
       "<div>\n",
       "<style scoped>\n",
       "    .dataframe tbody tr th:only-of-type {\n",
       "        vertical-align: middle;\n",
       "    }\n",
       "\n",
       "    .dataframe tbody tr th {\n",
       "        vertical-align: top;\n",
       "    }\n",
       "\n",
       "    .dataframe thead th {\n",
       "        text-align: right;\n",
       "    }\n",
       "</style>\n",
       "<table border=\"1\" class=\"dataframe\">\n",
       "  <thead>\n",
       "    <tr style=\"text-align: right;\">\n",
       "      <th></th>\n",
       "      <th>Model</th>\n",
       "      <th>MSE</th>\n",
       "      <th>R2</th>\n",
       "    </tr>\n",
       "  </thead>\n",
       "  <tbody>\n",
       "    <tr>\n",
       "      <th>0</th>\n",
       "      <td>Ridge Regression</td>\n",
       "      <td>24.291746</td>\n",
       "      <td>0.668751</td>\n",
       "    </tr>\n",
       "    <tr>\n",
       "      <th>1</th>\n",
       "      <td>Decision Tree (Tuned)</td>\n",
       "      <td>20.459822</td>\n",
       "      <td>0.721004</td>\n",
       "    </tr>\n",
       "    <tr>\n",
       "      <th>2</th>\n",
       "      <td>Random Forest (Tuned)</td>\n",
       "      <td>7.422556</td>\n",
       "      <td>0.898784</td>\n",
       "    </tr>\n",
       "  </tbody>\n",
       "</table>\n",
       "</div>"
      ],
      "text/plain": [
       "                   Model        MSE        R2\n",
       "0       Ridge Regression  24.291746  0.668751\n",
       "1  Decision Tree (Tuned)  20.459822  0.721004\n",
       "2  Random Forest (Tuned)   7.422556  0.898784"
      ]
     },
     "execution_count": 6,
     "metadata": {},
     "output_type": "execute_result"
    }
   ],
   "source": [
    "results_tuned = [\n",
    "    (\"Ridge Regression\", mean_squared_error(y_test, y_pred_lr), r2_score(y_test, y_pred_lr)),\n",
    "    (\"Decision Tree (Tuned)\", mean_squared_error(y_test, y_pred_dt), r2_score(y_test, y_pred_dt)),\n",
    "    (\"Random Forest (Tuned)\", mean_squared_error(y_test, y_pred_rf), r2_score(y_test, y_pred_rf))\n",
    "]\n",
    "\n",
    "import pandas as pd\n",
    "df_tuned = pd.DataFrame(results_tuned, columns=[\"Model\", \"MSE\", \"R2\"])\n",
    "df_tuned\n"
   ]
  },
  {
   "cell_type": "code",
   "execution_count": null,
   "id": "e2dfc79e-4f2c-4480-a986-2bebee6c384e",
   "metadata": {},
   "outputs": [],
   "source": []
  }
 ],
 "metadata": {
  "kernelspec": {
   "display_name": "Python 3 (ipykernel)",
   "language": "python",
   "name": "python3"
  },
  "language_info": {
   "codemirror_mode": {
    "name": "ipython",
    "version": 3
   },
   "file_extension": ".py",
   "mimetype": "text/x-python",
   "name": "python",
   "nbconvert_exporter": "python",
   "pygments_lexer": "ipython3",
   "version": "3.13.5"
  }
 },
 "nbformat": 4,
 "nbformat_minor": 5
}
